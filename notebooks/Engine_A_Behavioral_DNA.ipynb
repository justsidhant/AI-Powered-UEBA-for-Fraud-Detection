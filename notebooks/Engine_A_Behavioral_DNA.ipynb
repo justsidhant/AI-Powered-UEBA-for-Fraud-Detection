{
 "cells": [
  {
   "cell_type": "markdown",
   "id": "7f7faf49",
   "metadata": {},
   "source": [
    "# Engine A: Behavioral DNA (Sequential Anomaly Detection)\n",
    "\n",
    "This notebook builds the first and most critical engine of the Cognitive Shield framework. We will use a Transformer-based model to learn the deep sequential patterns in user behavior.\n",
    "\n",
    "**Objective:** Train a model on sequences of *normal* user actions to create a \"behavioral fingerprint.\" This model will then be able to identify fraudulent sessions because they will deviate from the learned normal patterns, resulting in a high anomaly score.\n",
    "\n",
    "**Process:**\n",
    "1.  **Load and Preprocess Data:** Load the generated `events.csv`.\n",
    "2.  **Feature Engineering:**\n",
    "    - Create a unified `event_token` from event type, channel, and amount.\n",
    "    - Calculate `time_delta` between consecutive events.\n",
    "    - Group events into sessions (our \"sentences\").\n",
    "3.  **Build a PyTorch Dataset:** Prepare the data for the model, including tokenization, padding, and masking for the MLM task.\n",
    "4.  **Define the Transformer Model:** Create the neural network architecture.\n",
    "5.  **Train the Model:** Train the Transformer on legitimate sessions only.\n",
    "6.  **Develop Anomaly Scoring:** Create a function to score new sessions based on how \"surprising\" they are to the model.\n",
    "7.  **Evaluate:** Test the engine's ability to distinguish between normal and fraudulent sessions."
   ]
  },
  {
   "cell_type": "code",
   "execution_count": 9,
   "id": "101a3720",
   "metadata": {},
   "outputs": [
    {
     "name": "stdout",
     "output_type": "stream",
     "text": [
      "Defaulting to user installation because normal site-packages is not writeable\n",
      "Requirement already satisfied: torch in c:\\users\\sidhant\\appdata\\roaming\\python\\python312\\site-packages (2.8.0)\n",
      "Requirement already satisfied: filelock in c:\\programdata\\anaconda3\\lib\\site-packages (from torch) (3.13.1)\n",
      "Requirement already satisfied: typing-extensions>=4.10.0 in c:\\users\\sidhant\\appdata\\roaming\\python\\python312\\site-packages (from torch) (4.15.0)\n",
      "Requirement already satisfied: sympy>=1.13.3 in c:\\users\\sidhant\\appdata\\roaming\\python\\python312\\site-packages (from torch) (1.14.0)\n",
      "Requirement already satisfied: networkx in c:\\programdata\\anaconda3\\lib\\site-packages (from torch) (3.3)\n",
      "Requirement already satisfied: jinja2 in c:\\programdata\\anaconda3\\lib\\site-packages (from torch) (3.1.4)\n",
      "Requirement already satisfied: fsspec in c:\\programdata\\anaconda3\\lib\\site-packages (from torch) (2024.6.1)\n",
      "Requirement already satisfied: setuptools in c:\\programdata\\anaconda3\\lib\\site-packages (from torch) (75.1.0)\n",
      "Requirement already satisfied: mpmath<1.4,>=1.1.0 in c:\\programdata\\anaconda3\\lib\\site-packages (from sympy>=1.13.3->torch) (1.3.0)\n",
      "Requirement already satisfied: MarkupSafe>=2.0 in c:\\programdata\\anaconda3\\lib\\site-packages (from jinja2->torch) (2.1.3)\n",
      "Note: you may need to restart the kernel to use updated packages.\n"
     ]
    }
   ],
   "source": [
    "pip install torch"
   ]
  },
  {
   "cell_type": "code",
   "execution_count": 10,
   "id": "f1654b75",
   "metadata": {},
   "outputs": [
    {
     "name": "stdout",
     "output_type": "stream",
     "text": [
      "Using device: cpu\n",
      "Loading data from: ../data/events.csv\n",
      "Data loaded successfully.\n"
     ]
    },
    {
     "data": {
      "text/html": [
       "<div>\n",
       "<style scoped>\n",
       "    .dataframe tbody tr th:only-of-type {\n",
       "        vertical-align: middle;\n",
       "    }\n",
       "\n",
       "    .dataframe tbody tr th {\n",
       "        vertical-align: top;\n",
       "    }\n",
       "\n",
       "    .dataframe thead th {\n",
       "        text-align: right;\n",
       "    }\n",
       "</style>\n",
       "<table border=\"1\" class=\"dataframe\">\n",
       "  <thead>\n",
       "    <tr style=\"text-align: right;\">\n",
       "      <th></th>\n",
       "      <th>event_id</th>\n",
       "      <th>user_id</th>\n",
       "      <th>timestamp</th>\n",
       "      <th>event_type</th>\n",
       "      <th>channel</th>\n",
       "      <th>amount</th>\n",
       "      <th>source_account</th>\n",
       "      <th>destination_account</th>\n",
       "      <th>device_id</th>\n",
       "      <th>ip_address</th>\n",
       "      <th>session_id</th>\n",
       "      <th>is_fraud</th>\n",
       "    </tr>\n",
       "  </thead>\n",
       "  <tbody>\n",
       "    <tr>\n",
       "      <th>0</th>\n",
       "      <td>evt_cb95b14fdf9b</td>\n",
       "      <td>usr_9c73435ecbaa</td>\n",
       "      <td>2025-06-30 23:37:00+05:30</td>\n",
       "      <td>login_success</td>\n",
       "      <td>web_browser</td>\n",
       "      <td>0.00</td>\n",
       "      <td>acc_9c73435ecbaa</td>\n",
       "      <td>NaN</td>\n",
       "      <td>dev_6c4187fad28a</td>\n",
       "      <td>126.58.205.46</td>\n",
       "      <td>sess_78c0846b5447</td>\n",
       "      <td>False</td>\n",
       "    </tr>\n",
       "    <tr>\n",
       "      <th>1</th>\n",
       "      <td>evt_b70b72d6ffd9</td>\n",
       "      <td>usr_43ca4ced01d5</td>\n",
       "      <td>2025-06-30 23:37:00+05:30</td>\n",
       "      <td>login_success</td>\n",
       "      <td>web_browser</td>\n",
       "      <td>0.00</td>\n",
       "      <td>acc_43ca4ced01d5</td>\n",
       "      <td>NaN</td>\n",
       "      <td>dev_3ca1b360a357</td>\n",
       "      <td>164.109.173.147</td>\n",
       "      <td>sess_f76c862eaf29</td>\n",
       "      <td>False</td>\n",
       "    </tr>\n",
       "    <tr>\n",
       "      <th>2</th>\n",
       "      <td>evt_b85458c561d1</td>\n",
       "      <td>usr_9c73435ecbaa</td>\n",
       "      <td>2025-06-30 23:38:20+05:30</td>\n",
       "      <td>merchant_payment</td>\n",
       "      <td>web_browser</td>\n",
       "      <td>185.52</td>\n",
       "      <td>acc_9c73435ecbaa</td>\n",
       "      <td>mer_0b3027feabe1</td>\n",
       "      <td>dev_6c4187fad28a</td>\n",
       "      <td>126.58.205.46</td>\n",
       "      <td>sess_78c0846b5447</td>\n",
       "      <td>False</td>\n",
       "    </tr>\n",
       "    <tr>\n",
       "      <th>3</th>\n",
       "      <td>evt_258143911fb7</td>\n",
       "      <td>usr_9c73435ecbaa</td>\n",
       "      <td>2025-06-30 23:39:24+05:30</td>\n",
       "      <td>bill_pay</td>\n",
       "      <td>web_browser</td>\n",
       "      <td>2092.25</td>\n",
       "      <td>acc_9c73435ecbaa</td>\n",
       "      <td>util_company_2</td>\n",
       "      <td>dev_6c4187fad28a</td>\n",
       "      <td>126.58.205.46</td>\n",
       "      <td>sess_78c0846b5447</td>\n",
       "      <td>False</td>\n",
       "    </tr>\n",
       "    <tr>\n",
       "      <th>4</th>\n",
       "      <td>evt_6fe1088f6c95</td>\n",
       "      <td>usr_9f216b9a3801</td>\n",
       "      <td>2025-06-30 23:41:00+05:30</td>\n",
       "      <td>login_success</td>\n",
       "      <td>mobile_app</td>\n",
       "      <td>0.00</td>\n",
       "      <td>acc_9f216b9a3801</td>\n",
       "      <td>NaN</td>\n",
       "      <td>dev_eae0754b288c</td>\n",
       "      <td>206.187.228.206</td>\n",
       "      <td>sess_fb0bc76192d2</td>\n",
       "      <td>False</td>\n",
       "    </tr>\n",
       "  </tbody>\n",
       "</table>\n",
       "</div>"
      ],
      "text/plain": [
       "           event_id           user_id                 timestamp  \\\n",
       "0  evt_cb95b14fdf9b  usr_9c73435ecbaa 2025-06-30 23:37:00+05:30   \n",
       "1  evt_b70b72d6ffd9  usr_43ca4ced01d5 2025-06-30 23:37:00+05:30   \n",
       "2  evt_b85458c561d1  usr_9c73435ecbaa 2025-06-30 23:38:20+05:30   \n",
       "3  evt_258143911fb7  usr_9c73435ecbaa 2025-06-30 23:39:24+05:30   \n",
       "4  evt_6fe1088f6c95  usr_9f216b9a3801 2025-06-30 23:41:00+05:30   \n",
       "\n",
       "         event_type      channel   amount    source_account  \\\n",
       "0     login_success  web_browser     0.00  acc_9c73435ecbaa   \n",
       "1     login_success  web_browser     0.00  acc_43ca4ced01d5   \n",
       "2  merchant_payment  web_browser   185.52  acc_9c73435ecbaa   \n",
       "3          bill_pay  web_browser  2092.25  acc_9c73435ecbaa   \n",
       "4     login_success   mobile_app     0.00  acc_9f216b9a3801   \n",
       "\n",
       "  destination_account         device_id       ip_address         session_id  \\\n",
       "0                 NaN  dev_6c4187fad28a    126.58.205.46  sess_78c0846b5447   \n",
       "1                 NaN  dev_3ca1b360a357  164.109.173.147  sess_f76c862eaf29   \n",
       "2    mer_0b3027feabe1  dev_6c4187fad28a    126.58.205.46  sess_78c0846b5447   \n",
       "3      util_company_2  dev_6c4187fad28a    126.58.205.46  sess_78c0846b5447   \n",
       "4                 NaN  dev_eae0754b288c  206.187.228.206  sess_fb0bc76192d2   \n",
       "\n",
       "   is_fraud  \n",
       "0     False  \n",
       "1     False  \n",
       "2     False  \n",
       "3     False  \n",
       "4     False  "
      ]
     },
     "metadata": {},
     "output_type": "display_data"
    }
   ],
   "source": [
    "import pandas as pd\n",
    "import numpy as np\n",
    "import torch\n",
    "import torch.nn as nn\n",
    "from torch.utils.data import Dataset, DataLoader\n",
    "from sklearn.model_selection import train_test_split\n",
    "from tqdm.notebook import tqdm\n",
    "import os\n",
    "\n",
    "# --- Configuration ---\n",
    "DATA_FILE = '../data/events.csv'\n",
    "MODEL_SAVE_PATH = '../src/models/engine_a_transformer.pth'\n",
    "DEVICE = torch.device(\"cuda\" if torch.cuda.is_available() else \"cpu\")\n",
    "\n",
    "# Model Hyperparameters\n",
    "MAX_SEQ_LENGTH = 50  # Max events in a session\n",
    "BATCH_SIZE = 32\n",
    "EMBEDDING_DIM = 64\n",
    "NUM_HEADS = 4\n",
    "NUM_LAYERS = 2\n",
    "LEARNING_RATE = 1e-4\n",
    "EPOCHS = 5 # In a real scenario, this would be much higher\n",
    "\n",
    "# Ensure model directory exists\n",
    "os.makedirs('../src/models', exist_ok=True)\n",
    "\n",
    "print(f\"Using device: {DEVICE}\")\n",
    "print(f\"Loading data from: {DATA_FILE}\")\n",
    "\n",
    "# Load the data\n",
    "df = pd.read_csv(DATA_FILE, parse_dates=['timestamp'])\n",
    "df = df.sort_values(by='timestamp').reset_index(drop=True)\n",
    "\n",
    "print(\"Data loaded successfully.\")\n",
    "display(df.head())"
   ]
  },
  {
   "cell_type": "markdown",
   "id": "9789c1ed",
   "metadata": {},
   "source": [
    "## 2. Feature Engineering & Sessionization\n",
    "\n",
    "Here, we transform the raw event log into structured sequences that our model can understand.\n",
    "\n",
    "- **Amount Bucketing:** We can't feed raw amounts to an embedding layer. We categorize them into buckets (`micro`, `small`, `medium`, `large`, `very_large`) based on quantiles. This makes the amount meaningful in a categorical sense.\n",
    "- **Event Token Creation:** We combine `event_type`, `channel`, and the new `amount_bucket` into a single, rich categorical feature, our `event_token`.\n",
    "- **Time Delta:** We calculate the time in seconds between an event and the previous one within the same session. This captures the user's *pace*.\n",
    "- **Session Grouping:** We group the events by `session_id` to form our sequences."
   ]
  },
  {
   "cell_type": "code",
   "execution_count": 11,
   "id": "993cd186",
   "metadata": {},
   "outputs": [
    {
     "name": "stdout",
     "output_type": "stream",
     "text": [
      "Total sessions: 88603\n",
      "Normal sessions: 88453\n",
      "Fraudulent sessions: 150\n",
      "\n",
      "Sample processed session:\n"
     ]
    },
    {
     "name": "stderr",
     "output_type": "stream",
     "text": [
      "C:\\Users\\Sidhant\\AppData\\Local\\Temp\\ipykernel_20236\\668661543.py:30: DeprecationWarning: DataFrameGroupBy.apply operated on the grouping columns. This behavior is deprecated, and in a future version of pandas the grouping columns will be excluded from the operation. Either pass `include_groups=False` to exclude the groupings or explicitly select the grouping columns after groupby to silence this warning.\n",
      "  sessions = df.groupby('session_id').apply(lambda s: s[['event_token', 'time_delta', 'is_fraud']].to_dict(orient='records'))\n"
     ]
    },
    {
     "data": {
      "text/plain": [
       "[{'event_token': 'login_success|mobile_app|no_amount',\n",
       "  'time_delta': 0.0,\n",
       "  'is_fraud': False},\n",
       " {'event_token': 'merchant_payment|mobile_app|medium',\n",
       "  'time_delta': 148.0,\n",
       "  'is_fraud': False},\n",
       " {'event_token': 'bulk_transfer|mobile_app|large',\n",
       "  'time_delta': 75.0,\n",
       "  'is_fraud': False},\n",
       " {'event_token': 'bulk_transfer|mobile_app|large',\n",
       "  'time_delta': 19.0,\n",
       "  'is_fraud': False},\n",
       " {'event_token': 'beneficiary_add|mobile_app|no_amount',\n",
       "  'time_delta': 52.0,\n",
       "  'is_fraud': False}]"
      ]
     },
     "metadata": {},
     "output_type": "display_data"
    }
   ],
   "source": [
    "# 1. Amount Bucketing\n",
    "# For simplicity in this notebook, we'll use global quantiles.\n",
    "# A more advanced approach would be per-user quantiles.\n",
    "non_zero_amounts = df[df['amount'] > 0]['amount']\n",
    "quantiles = non_zero_amounts.quantile([0.25, 0.5, 0.75, 0.95]).to_dict()\n",
    "\n",
    "def amount_to_bucket(amount):\n",
    "    if amount == 0:\n",
    "        return 'no_amount'\n",
    "    if amount <= quantiles[0.25]:\n",
    "        return 'micro'\n",
    "    elif amount <= quantiles[0.5]:\n",
    "        return 'small'\n",
    "    elif amount <= quantiles[0.75]:\n",
    "        return 'medium'\n",
    "    elif amount <= quantiles[0.95]:\n",
    "        return 'large'\n",
    "    else:\n",
    "        return 'very_large'\n",
    "\n",
    "df['amount_bucket'] = df['amount'].apply(amount_to_bucket)\n",
    "\n",
    "# 2. Event Token Creation\n",
    "df['event_token'] = df['event_type'] + '|' + df['channel'] + '|' + df['amount_bucket']\n",
    "\n",
    "# 3. Time Delta Calculation\n",
    "df['time_delta'] = df.groupby('session_id')['timestamp'].diff().dt.total_seconds().fillna(0)\n",
    "\n",
    "# 4. Session Grouping\n",
    "sessions = df.groupby('session_id').apply(lambda s: s[['event_token', 'time_delta', 'is_fraud']].to_dict(orient='records'))\n",
    "sessions_df = pd.DataFrame(sessions, columns=['events']).reset_index()\n",
    "\n",
    "# Separate normal and fraudulent sessions\n",
    "sessions_df['is_fraud'] = sessions_df['events'].apply(lambda x: any(e['is_fraud'] for e in x))\n",
    "normal_sessions = sessions_df[~sessions_df['is_fraud']]\n",
    "fraud_sessions = sessions_df[sessions_df['is_fraud']]\n",
    "\n",
    "print(f\"Total sessions: {len(sessions_df)}\")\n",
    "print(f\"Normal sessions: {len(normal_sessions)}\")\n",
    "print(f\"Fraudulent sessions: {len(fraud_sessions)}\")\n",
    "\n",
    "print(\"\\nSample processed session:\")\n",
    "display(sessions.iloc[0])"
   ]
  },
  {
   "cell_type": "markdown",
   "id": "799716bb",
   "metadata": {},
   "source": [
    "## 3. Vocabulary and PyTorch Dataset\n",
    "\n",
    "We create a vocabulary to map our categorical `event_token` and `time_delta` features to integer indices. Then, we build a custom PyTorch `Dataset` class that will handle tokenization, padding to a fixed length, and the crucial step of **Masked Language Modeling (MLM)**, where we randomly hide tokens for the model to predict."
   ]
  },
  {
   "cell_type": "code",
   "execution_count": 12,
   "id": "724e0481",
   "metadata": {},
   "outputs": [
    {
     "name": "stdout",
     "output_type": "stream",
     "text": [
      "Dataset and DataLoader created.\n",
      "event_ids: torch.Size([50])\n",
      "time_ids: torch.Size([50])\n",
      "attention_mask: torch.Size([50])\n",
      "labels: torch.Size([50])\n"
     ]
    }
   ],
   "source": [
    "# --- Vocabulary Creation ---\n",
    "# Event Tokens\n",
    "unique_tokens = df['event_token'].unique().tolist()\n",
    "# Add special tokens\n",
    "special_tokens = ['[PAD]', '[MASK]', '[CLS]', '[UNK]'] # CLS for start, UNK for unknown\n",
    "event_vocab = {token: i for i, token in enumerate(special_tokens + unique_tokens)}\n",
    "event_vocab_inv = {i: token for token, i in event_vocab.items()}\n",
    "\n",
    "# Time Deltas (we bucketize them to create a small vocabulary)\n",
    "def time_delta_to_bucket(delta):\n",
    "    if delta < 1: return 'immediate'\n",
    "    if delta < 60: return 'seconds'\n",
    "    if delta < 3600: return 'minutes'\n",
    "    if delta < 86400: return 'hours'\n",
    "    return 'days'\n",
    "\n",
    "df['time_bucket'] = df['time_delta'].apply(time_delta_to_bucket)\n",
    "unique_time_buckets = df['time_bucket'].unique().tolist()\n",
    "time_vocab = {bucket: i for i, bucket in enumerate(unique_time_buckets)}\n",
    "\n",
    "\n",
    "# --- PyTorch Dataset Class ---\n",
    "class SessionDataset(Dataset):\n",
    "    def __init__(self, sessions, event_vocab, time_vocab, max_len):\n",
    "        self.sessions = sessions\n",
    "        self.event_vocab = event_vocab\n",
    "        self.time_vocab = time_vocab\n",
    "        self.max_len = max_len\n",
    "        self.unk_token_id = event_vocab['[UNK]']\n",
    "\n",
    "    def __len__(self):\n",
    "        return len(self.sessions)\n",
    "\n",
    "    def __getitem__(self, idx):\n",
    "        session = self.sessions.iloc[idx]['events']\n",
    "        \n",
    "        # 1. Tokenize events and time deltas\n",
    "        event_ids = [self.event_vocab.get(e['event_token'], self.unk_token_id) for e in session]\n",
    "        time_deltas = [e['time_delta'] for e in session]\n",
    "        time_ids = [self.time_vocab[time_delta_to_bucket(td)] for td in time_deltas]\n",
    "\n",
    "        # 2. Truncate to max_len\n",
    "        event_ids = event_ids[:self.max_len]\n",
    "        time_ids = time_ids[:self.max_len]\n",
    "        \n",
    "        # 3. Create labels for MLM and mask input\n",
    "        labels = torch.tensor(event_ids, dtype=torch.long)\n",
    "        input_event_ids = labels.clone()\n",
    "        \n",
    "        # Masking logic (15% of tokens)\n",
    "        rand = torch.rand(len(input_event_ids))\n",
    "        mask_arr = (rand < 0.15)\n",
    "        # Ensure we don't mask padding\n",
    "        mask_arr[:1] = False # Don't mask start token\n",
    "        \n",
    "        for i in range(len(input_event_ids)):\n",
    "            if mask_arr[i]:\n",
    "                input_event_ids[i] = self.event_vocab['[MASK]']\n",
    "\n",
    "        # 4. Padding\n",
    "        pad_len = self.max_len - len(input_event_ids)\n",
    "        \n",
    "        padding = torch.full((pad_len,), self.event_vocab['[PAD]'], dtype=torch.long)\n",
    "        input_event_ids = torch.cat([input_event_ids, padding])\n",
    "        \n",
    "        padding = torch.full((pad_len,), 0, dtype=torch.long) # Pad time with 0\n",
    "        time_ids = torch.cat([torch.tensor(time_ids), padding])\n",
    "        \n",
    "        # We use -100 in labels for positions we don't want to calculate loss for (unmasked and padded)\n",
    "        labels[~mask_arr] = -100 \n",
    "        padding = torch.full((pad_len,), -100, dtype=torch.long)\n",
    "        labels = torch.cat([labels, padding])\n",
    "        \n",
    "        # Attention mask to ignore padding\n",
    "        attention_mask = (input_event_ids != self.event_vocab['[PAD]']).float()\n",
    "\n",
    "        return {\n",
    "            'event_ids': input_event_ids,\n",
    "            'time_ids': time_ids,\n",
    "            'attention_mask': attention_mask,\n",
    "            'labels': labels\n",
    "        }\n",
    "\n",
    "# Create dataset and dataloader\n",
    "train_sessions, val_sessions = train_test_split(normal_sessions, test_size=0.15, random_state=42)\n",
    "train_dataset = SessionDataset(train_sessions, event_vocab, time_vocab, MAX_SEQ_LENGTH)\n",
    "train_loader = DataLoader(train_dataset, batch_size=BATCH_SIZE, shuffle=True)\n",
    "\n",
    "print(\"Dataset and DataLoader created.\")\n",
    "# Let's check one sample\n",
    "sample = train_dataset[0]\n",
    "for key, val in sample.items():\n",
    "    print(f\"{key}: {val.shape}\")"
   ]
  },
  {
   "cell_type": "markdown",
   "id": "cff1fdc2",
   "metadata": {},
   "source": [
    "## 4. Define the Transformer Model\n",
    "\n",
    "Now we build the brain of Engine A. Our model consists of three main parts:\n",
    "1.  **Embedding Layer:** This layer converts our integer-indexed tokens (for both events and time buckets) into dense vector representations (embeddings). We add these two embeddings together to get a single, rich representation for each event in the sequence.\n",
    "2.  **Positional Encoding:** Transformers don't inherently understand the order of a sequence. We add a positional encoding to the embeddings to give the model information about the position of each event in the session.\n",
    "3.  **Transformer Encoder:** This is the core of the model. It uses multiple layers of self-attention to learn the complex relationships and \"grammar\" between events in a sequence.\n",
    "4.  **MLM Head:** A final linear layer that takes the output from the Transformer and predicts the original token for the masked positions in the input."
   ]
  },
  {
   "cell_type": "code",
   "execution_count": 13,
   "id": "d087af9b",
   "metadata": {},
   "outputs": [
    {
     "name": "stdout",
     "output_type": "stream",
     "text": [
      "Model Architecture:\n",
      "BehavioralTransformer(\n",
      "  (event_embedding): Embedding(47, 64)\n",
      "  (time_embedding): Embedding(3, 64)\n",
      "  (pos_encoder): PositionalEncoding()\n",
      "  (transformer_encoder): TransformerEncoder(\n",
      "    (layers): ModuleList(\n",
      "      (0-1): 2 x TransformerEncoderLayer(\n",
      "        (self_attn): MultiheadAttention(\n",
      "          (out_proj): NonDynamicallyQuantizableLinear(in_features=64, out_features=64, bias=True)\n",
      "        )\n",
      "        (linear1): Linear(in_features=64, out_features=256, bias=True)\n",
      "        (dropout): Dropout(p=0.1, inplace=False)\n",
      "        (linear2): Linear(in_features=256, out_features=64, bias=True)\n",
      "        (norm1): LayerNorm((64,), eps=1e-05, elementwise_affine=True)\n",
      "        (norm2): LayerNorm((64,), eps=1e-05, elementwise_affine=True)\n",
      "        (dropout1): Dropout(p=0.1, inplace=False)\n",
      "        (dropout2): Dropout(p=0.1, inplace=False)\n",
      "      )\n",
      "    )\n",
      "  )\n",
      "  (mlm_head): Linear(in_features=64, out_features=47, bias=True)\n",
      ")\n"
     ]
    }
   ],
   "source": [
    "class PositionalEncoding(nn.Module):\n",
    "    def __init__(self, d_model, max_len=512):\n",
    "        super().__init__()\n",
    "        pe = torch.zeros(max_len, d_model)\n",
    "        position = torch.arange(0, max_len, dtype=torch.float).unsqueeze(1)\n",
    "        div_term = torch.exp(torch.arange(0, d_model, 2).float() * (-np.log(10000.0) / d_model))\n",
    "        pe[:, 0::2] = torch.sin(position * div_term)\n",
    "        pe[:, 1::2] = torch.cos(position * div_term)\n",
    "        pe = pe.unsqueeze(0)\n",
    "        self.register_buffer('pe', pe)\n",
    "\n",
    "    def forward(self, x):\n",
    "        return x + self.pe[:, :x.size(1)]\n",
    "\n",
    "class BehavioralTransformer(nn.Module):\n",
    "    def __init__(self, n_event_tokens, n_time_tokens, embed_dim, n_heads, n_layers, max_seq_len):\n",
    "        super().__init__()\n",
    "        self.event_embedding = nn.Embedding(n_event_tokens, embed_dim)\n",
    "        self.time_embedding = nn.Embedding(n_time_tokens, embed_dim)\n",
    "        self.pos_encoder = PositionalEncoding(embed_dim, max_seq_len)\n",
    "        \n",
    "        encoder_layer = nn.TransformerEncoderLayer(\n",
    "            d_model=embed_dim, \n",
    "            nhead=n_heads, \n",
    "            batch_first=True, # This is important!\n",
    "            dim_feedforward=embed_dim * 4\n",
    "        )\n",
    "        self.transformer_encoder = nn.TransformerEncoder(encoder_layer, num_layers=n_layers)\n",
    "        \n",
    "        # MLM Head: A linear layer to map transformer output back to vocabulary size\n",
    "        self.mlm_head = nn.Linear(embed_dim, n_event_tokens)\n",
    "\n",
    "    def forward(self, event_ids, time_ids, attention_mask):\n",
    "        # The attention mask needs to be boolean for the TransformerEncoder\n",
    "        # PyTorch expects True for positions to be attended to, False for masked positions\n",
    "        src_key_padding_mask = (attention_mask == 0)\n",
    "\n",
    "        event_embed = self.event_embedding(event_ids)\n",
    "        time_embed = self.time_embedding(time_ids)\n",
    "        \n",
    "        # Combine embeddings\n",
    "        x = event_embed + time_embed\n",
    "        x = self.pos_encoder(x)\n",
    "        \n",
    "        # Pass through transformer\n",
    "        output = self.transformer_encoder(x, src_key_padding_mask=src_key_padding_mask)\n",
    "        \n",
    "        # Get predictions for the MLM task\n",
    "        mlm_predictions = self.mlm_head(output)\n",
    "        \n",
    "        return mlm_predictions\n",
    "\n",
    "# Instantiate the model\n",
    "model = BehavioralTransformer(\n",
    "    n_event_tokens=len(event_vocab),\n",
    "    n_time_tokens=len(time_vocab),\n",
    "    embed_dim=EMBEDDING_DIM,\n",
    "    n_heads=NUM_HEADS,\n",
    "    n_layers=NUM_LAYERS,\n",
    "    max_seq_len=MAX_SEQ_LENGTH\n",
    ").to(DEVICE)\n",
    "\n",
    "print(\"Model Architecture:\")\n",
    "print(model)"
   ]
  },
  {
   "cell_type": "markdown",
   "id": "76fa47ce",
   "metadata": {},
   "source": [
    "## 5. Train the Model\n",
    "\n",
    "This is where the learning happens. We loop through our training data for a set number of epochs. In each step:\n",
    "1.  We pass a batch of masked sequences to the model.\n",
    "2.  The model predicts the identity of the masked tokens.\n",
    "3.  We use a `CrossEntropyLoss` function to compare the model's predictions to the true, unmasked tokens. The loss is only calculated for the tokens that were actually masked (where the label is not -100).\n",
    "4.  We use this loss to update the model's weights through backpropagation.\n",
    "\n",
    "**Note:** For a hackathon, we'll run for only a few epochs. A production model would train for much longer on a much larger dataset."
   ]
  },
  {
   "cell_type": "code",
   "execution_count": 14,
   "id": "d4178e1e",
   "metadata": {},
   "outputs": [
    {
     "data": {
      "application/vnd.jupyter.widget-view+json": {
       "model_id": "7daa0d46c8e547ffa05436344a48eaee",
       "version_major": 2,
       "version_minor": 0
      },
      "text/plain": [
       "  0%|          | 0/2350 [00:00<?, ?it/s]"
      ]
     },
     "metadata": {},
     "output_type": "display_data"
    },
    {
     "name": "stdout",
     "output_type": "stream",
     "text": [
      "Epoch 1/5, Average Training Loss: 2.3183\n"
     ]
    },
    {
     "data": {
      "application/vnd.jupyter.widget-view+json": {
       "model_id": "50965649f733486493117a6ac4d009a3",
       "version_major": 2,
       "version_minor": 0
      },
      "text/plain": [
       "  0%|          | 0/2350 [00:00<?, ?it/s]"
      ]
     },
     "metadata": {},
     "output_type": "display_data"
    },
    {
     "name": "stdout",
     "output_type": "stream",
     "text": [
      "Epoch 2/5, Average Training Loss: 1.8976\n"
     ]
    },
    {
     "data": {
      "application/vnd.jupyter.widget-view+json": {
       "model_id": "b57397d09d4d45fa8e089c424714efa0",
       "version_major": 2,
       "version_minor": 0
      },
      "text/plain": [
       "  0%|          | 0/2350 [00:00<?, ?it/s]"
      ]
     },
     "metadata": {},
     "output_type": "display_data"
    },
    {
     "name": "stdout",
     "output_type": "stream",
     "text": [
      "Epoch 3/5, Average Training Loss: 1.8280\n"
     ]
    },
    {
     "data": {
      "application/vnd.jupyter.widget-view+json": {
       "model_id": "b7ab31fa23254a15850beea6f828f7ab",
       "version_major": 2,
       "version_minor": 0
      },
      "text/plain": [
       "  0%|          | 0/2350 [00:00<?, ?it/s]"
      ]
     },
     "metadata": {},
     "output_type": "display_data"
    },
    {
     "name": "stdout",
     "output_type": "stream",
     "text": [
      "Epoch 4/5, Average Training Loss: 1.8129\n"
     ]
    },
    {
     "data": {
      "application/vnd.jupyter.widget-view+json": {
       "model_id": "5401698f353241be833318c781baab88",
       "version_major": 2,
       "version_minor": 0
      },
      "text/plain": [
       "  0%|          | 0/2350 [00:00<?, ?it/s]"
      ]
     },
     "metadata": {},
     "output_type": "display_data"
    },
    {
     "name": "stdout",
     "output_type": "stream",
     "text": [
      "Epoch 5/5, Average Training Loss: 1.8101\n",
      "Model saved to ../src/models/engine_a_transformer.pth\n"
     ]
    }
   ],
   "source": [
    "optimizer = torch.optim.Adam(model.parameters(), lr=LEARNING_RATE)\n",
    "# The loss function ignores the label -100, which is exactly what we need\n",
    "criterion = nn.CrossEntropyLoss(ignore_index=-100) \n",
    "\n",
    "model.train() # Set the model to training mode\n",
    "\n",
    "for epoch in range(EPOCHS):\n",
    "    loop = tqdm(train_loader, leave=True)\n",
    "    total_loss = 0\n",
    "    \n",
    "    for batch in loop:\n",
    "        # Move batch to device\n",
    "        event_ids = batch['event_ids'].to(DEVICE)\n",
    "        time_ids = batch['time_ids'].to(DEVICE)\n",
    "        attention_mask = batch['attention_mask'].to(DEVICE)\n",
    "        labels = batch['labels'].to(DEVICE)\n",
    "\n",
    "        # Forward pass\n",
    "        optimizer.zero_grad()\n",
    "        predictions = model(event_ids, time_ids, attention_mask)\n",
    "\n",
    "        # Calculate loss\n",
    "        # Reshape for CrossEntropyLoss: (Batch_size * Seq_len, Vocab_size) and (Batch_size * Seq_len)\n",
    "        loss = criterion(predictions.view(-1, len(event_vocab)), labels.view(-1))\n",
    "        \n",
    "        # Backward pass and optimization\n",
    "        loss.backward()\n",
    "        optimizer.step()\n",
    "        \n",
    "        total_loss += loss.item()\n",
    "        loop.set_description(f\"Epoch [{epoch+1}/{EPOCHS}]\")\n",
    "        loop.set_postfix(loss=loss.item())\n",
    "\n",
    "    avg_loss = total_loss / len(train_loader)\n",
    "    print(f\"Epoch {epoch+1}/{EPOCHS}, Average Training Loss: {avg_loss:.4f}\")\n",
    "\n",
    "# Save the trained model\n",
    "torch.save(model.state_dict(), MODEL_SAVE_PATH)\n",
    "print(f\"Model saved to {MODEL_SAVE_PATH}\")"
   ]
  },
  {
   "cell_type": "markdown",
   "id": "bfdcca89",
   "metadata": {},
   "source": [
    "## 6. Anomaly Scoring & Evaluation\n",
    "\n",
    "Now for the payoff. How do we use our trained model to detect fraud?\n",
    "\n",
    "The core idea is that the model, having been trained only on *normal* data, will be very good at predicting masked tokens in a normal session, resulting in a **low loss**. Conversely, when faced with a fraudulent session that has an unnatural sequence or timing, its predictions will be poor, resulting in a **high loss**. This loss value becomes our **Behavioral Anomaly Score**.\n",
    "\n",
    "We will:\n",
    "1.  Create a function `get_anomaly_score` that computes this loss for any given session.\n",
    "2.  Calculate scores for all our normal validation sessions and all fraudulent sessions.\n",
    "3.  Visualize the distribution of these scores to see if our engine can effectively separate the two populations."
   ]
  },
  {
   "cell_type": "code",
   "execution_count": 15,
   "id": "46953171",
   "metadata": {},
   "outputs": [
    {
     "data": {
      "application/vnd.jupyter.widget-view+json": {
       "model_id": "14b35881ec274a90abb6de3aec65019a",
       "version_major": 2,
       "version_minor": 0
      },
      "text/plain": [
       "Calculating Anomaly Scores:   0%|          | 0/32 [00:00<?, ?it/s]"
      ]
     },
     "metadata": {},
     "output_type": "display_data"
    },
    {
     "data": {
      "application/vnd.jupyter.widget-view+json": {
       "model_id": "4d6db6af8f2c4b14beeb79c15ceed391",
       "version_major": 2,
       "version_minor": 0
      },
      "text/plain": [
       "Calculating Anomaly Scores:   0%|          | 0/5 [00:00<?, ?it/s]"
      ]
     },
     "metadata": {},
     "output_type": "display_data"
    },
    {
     "data": {
      "image/png": "[encoded data removed]",
      "text/plain": [
       "<Figure size 1200x600 with 1 Axes>"
      ]
     },
     "metadata": {},
     "output_type": "display_data"
    }
   ],
   "source": [
    "# Create a new dataset class for inference that doesn't do masking\n",
    "class InferenceDataset(Dataset):\n",
    "    def __init__(self, sessions, event_vocab, time_vocab, max_len):\n",
    "        self.sessions = sessions\n",
    "        self.event_vocab = event_vocab\n",
    "        self.time_vocab = time_vocab\n",
    "        self.max_len = max_len\n",
    "        self.unk_token_id = event_vocab['[UNK]']\n",
    "\n",
    "    def __len__(self):\n",
    "        return len(self.sessions)\n",
    "\n",
    "    def __getitem__(self, idx):\n",
    "        session = self.sessions.iloc[idx]['events']\n",
    "        \n",
    "        event_ids = [self.event_vocab.get(e['event_token'], self.unk_token_id) for e in session]\n",
    "        time_deltas = [e['time_delta'] for e in session]\n",
    "        time_ids = [self.time_vocab[time_delta_to_bucket(td)] for td in time_deltas]\n",
    "\n",
    "        event_ids = event_ids[:self.max_len]\n",
    "        time_ids = time_ids[:self.max_len]\n",
    "        \n",
    "        labels = torch.tensor(event_ids, dtype=torch.long)\n",
    "        \n",
    "        # Padding\n",
    "        pad_len = self.max_len - len(event_ids)\n",
    "        padding = torch.full((pad_len,), self.event_vocab['[PAD]'], dtype=torch.long)\n",
    "        event_ids_padded = torch.cat([torch.tensor(event_ids), padding])\n",
    "        time_ids_padded = torch.cat([torch.tensor(time_ids), torch.full((pad_len,), 0)])\n",
    "        \n",
    "        # Set all labels to -100 so we can selectively unmask them for scoring\n",
    "        labels_padded = torch.cat([labels, torch.full((pad_len,), -100, dtype=torch.long)])\n",
    "\n",
    "        return {\n",
    "            'event_ids': event_ids_padded,\n",
    "            'time_ids': time_ids_padded,\n",
    "            'labels': labels_padded\n",
    "        }\n",
    "\n",
    "\n",
    "def get_anomaly_scores(sessions_df, model, batch_size=32):\n",
    "    model.eval() # Set model to evaluation mode\n",
    "    scores = []\n",
    "    \n",
    "    dataset = InferenceDataset(sessions_df, event_vocab, time_vocab, MAX_SEQ_LENGTH)\n",
    "    loader = DataLoader(dataset, batch_size=batch_size)\n",
    "    \n",
    "    with torch.no_grad():\n",
    "        for batch in tqdm(loader, desc=\"Calculating Anomaly Scores\"):\n",
    "            event_ids = batch['event_ids'].to(DEVICE)\n",
    "            time_ids = batch['time_ids'].to(DEVICE)\n",
    "            labels = batch['labels'].to(DEVICE)\n",
    "            \n",
    "            # For each sequence, mask one token at a time and get loss\n",
    "            batch_scores = []\n",
    "            for i in range(event_ids.size(0)): # Iterate through each item in the batch\n",
    "                seq_len = (labels[i] != -100).sum().item()\n",
    "                if seq_len < 2: \n",
    "                    batch_scores.append(0) # Not enough context to score\n",
    "                    continue\n",
    "\n",
    "                total_seq_loss = 0\n",
    "                # Mask and predict each token in the sequence one by one\n",
    "                for j in range(1, seq_len): # Don't mask the first token\n",
    "                    masked_event_ids = event_ids[i].clone().unsqueeze(0)\n",
    "                    masked_event_ids[0, j] = event_vocab['[MASK]']\n",
    "                    \n",
    "                    # Attention mask should be all 1s as no padding is real\n",
    "                    attn_mask = (masked_event_ids != event_vocab['[PAD]']).float()\n",
    "\n",
    "                    predictions = model(masked_event_ids, time_ids[i].unsqueeze(0), attn_mask)\n",
    "                    \n",
    "                    # Calculate loss for just the masked token\n",
    "                    loss = criterion(predictions.view(-1, len(event_vocab)), labels[i].unsqueeze(0).view(-1))\n",
    "                    total_seq_loss += loss.item()\n",
    "\n",
    "                avg_loss = total_seq_loss / (seq_len - 1) if seq_len > 1 else 0\n",
    "                batch_scores.append(avg_loss)\n",
    "            scores.extend(batch_scores)\n",
    "            \n",
    "    return np.array(scores)\n",
    "\n",
    "# --- Evaluation ---\n",
    "# Calculate scores for a sample of normal and fraud sessions\n",
    "normal_eval_sessions = val_sessions.sample(n=min(len(val_sessions), 1000), random_state=42)\n",
    "fraud_eval_sessions = fraud_sessions.sample(n=min(len(fraud_sessions), 1000), random_state=42)\n",
    "\n",
    "normal_scores = get_anomaly_scores(normal_eval_sessions, model)\n",
    "fraud_scores = get_anomaly_scores(fraud_eval_sessions, model)\n",
    "\n",
    "# Visualize the distributions\n",
    "import matplotlib.pyplot as plt\n",
    "import seaborn as sns\n",
    "\n",
    "plt.figure(figsize=(12, 6))\n",
    "sns.histplot(normal_scores, color=\"blue\", label='Normal Sessions', kde=True, stat=\"density\", element=\"step\")\n",
    "sns.histplot(fraud_scores, color=\"red\", label='Fraudulent Sessions', kde=True, stat=\"density\", element=\"step\")\n",
    "plt.title('Distribution of Anomaly Scores (Engine A)')\n",
    "plt.xlabel('Anomaly Score (Average Loss)')\n",
    "plt.legend()\n",
    "plt.show()"
   ]
  }
 ],
 "metadata": {
  "kernelspec": {
   "display_name": "base",
   "language": "python",
   "name": "python3"
  },
  "language_info": {
   "codemirror_mode": {
    "name": "ipython",
    "version": 3
   },
   "file_extension": ".py",
   "mimetype": "text/x-python",
   "name": "python",
   "nbconvert_exporter": "python",
   "pygments_lexer": "ipython3",
   "version": "3.12.7"
  }
 },
 "nbformat": 4,
 "nbformat_minor": 5
}
